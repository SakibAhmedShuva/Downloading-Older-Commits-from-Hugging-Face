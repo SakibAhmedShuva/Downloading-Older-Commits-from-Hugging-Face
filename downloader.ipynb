{
 "cells": [
  {
   "cell_type": "code",
   "execution_count": null,
   "id": "3da76d8c",
   "metadata": {
    "vscode": {
     "languageId": "plaintext"
    }
   },
   "outputs": [],
   "source": [
    "# This code gets the files exactly as they were at the specified commit hash.\n",
    "# While the initial clone downloads history, the checkout command ensures\n",
    "# your working directory contains *only* the files from that specific version.\n",
    "\n",
    "# Define the specific commit hash and repository details\n",
    "TARGET_COMMIT = \"7622487216c98c3f3c860f2d0ddbf8289d3109b8\"\n",
    "REPO_URL = \"https://huggingface.co/unsloth/Qwen2.5-VL-7B-Instruct-unsloth-bnb-4bit\"\n",
    "REPO_DIR = \"Qwen2.5-VL-7B-Instruct-unsloth-bnb-4bit\" # Default directory name from clone\n",
    "\n",
    "# 1. Clone the repository\n",
    "# This downloads the necessary history, including the target commit.\n",
    "print(f\"Cloning the repository {REPO_URL} (downloads history including your target commit)...\")\n",
    "!git clone {REPO_URL}\n",
    "print(\"Cloning complete.\")\n",
    "\n",
    "# 2. Change into the cloned directory and checkout the specific commit\n",
    "# This is the crucial step that makes your working files reflect *only* the state of the TARGET_COMMIT.\n",
    "print(f\"\\nChanging directory to {REPO_DIR} and checking out commit {TARGET_COMMIT}...\")\n",
    "# Use '&&' to ensure the checkout command runs only after the cd command succeeds in the same shell\n",
    "!cd {REPO_DIR} && git checkout {TARGET_COMMIT}\n",
    "print(f\"Successfully checked out commit {TARGET_COMMIT}.\")\n",
    "print(\"Your working directory now contains the files *exactly* as they were at this version.\")\n",
    "\n",
    "# 3. Pull Git LFS files for the checked-out commit\n",
    "# This is crucial for downloading the actual large files (like model weights)\n",
    "# that are tracked by LFS *for the specified commit version*.\n",
    "# Addresses the 'may not have been copied correctly' warning.\n",
    "print(\"\\nPulling Git LFS files for the checked-out commit...\")\n",
    "!cd {REPO_DIR} && git lfs pull\n",
    "print(\"Git LFS pull complete.\")\n",
    "\n",
    "print(f\"\\nSetup complete. The directory '{REPO_DIR}' now contains the files from commit {TARGET_COMMIT}.\")"
   ]
  }
 ],
 "metadata": {
  "language_info": {
   "name": "python"
  }
 },
 "nbformat": 4,
 "nbformat_minor": 5
}
